{
 "cells": [
  {
   "cell_type": "code",
   "execution_count": 2,
   "metadata": {},
   "outputs": [],
   "source": [
    "import pandas as pd\n",
    "import numpy as np\n",
    "import matplotlib.pyplot as plt\n",
    "import viz\n",
    "\n",
    "\n",
    "from tqdm import tqdm\n",
    "from os import path\n",
    "\n",
    "colors = viz.color_palette()\n",
    "cnames_lin = 'green,blue,yellow,purple,red'.split(',')\n",
    "lin_colors = [colors[c] for c in cnames_lin]\n",
    "\n",
    "plt.style.use('style.mpl')"
   ]
  },
  {
   "cell_type": "markdown",
   "metadata": {},
   "source": [
    "# Calculates contingency tables and plots them\n",
    "\n",
    "Various modes of plotting, e.g. heatmap and bar plot. \n",
    "\n",
    "TODO: look for matches in the culture collections. We already know of one. \n",
    "https://gcm.wdcm.org/search"
   ]
  },
  {
   "cell_type": "code",
   "execution_count": 5,
   "metadata": {},
   "outputs": [],
   "source": [
    "summary_df = pd.read_csv('../output/annotree/chemoauto_summary_annotree.csv')\n",
    "species_results_df = pd.read_csv('../output/annotree/annotree_files/bac120_taxonomy_r95.csv')\n",
    "genome_metadata = pd.read_csv('../output/annotree/annotree_files/bac120_metadata_r95.csv', low_memory=False)\n",
    "\n",
    "\n",
    "species_results_df['genome_id'] = species_results_df['gtdbId'].str[3:]\n",
    "species_results_df['gtdb_order'] = species_results_df['gtdb_order'].str[3:]\n",
    "genome_metadata['genome_id'] = genome_metadata['accession'].str[3:]\n",
    "\n",
    "\n",
    "merged = pd.merge(summary_df, genome_metadata, on='genome_id')\n",
    "summary_annot_df = pd.merge(merged, species_results_df, on='genome_id')\n",
    "summary_annot_df.genome_id.unique().size\n",
    "\n",
    "summary_annot_df.to_csv('../output/annotree/chemoauto_summary_annot.csv', index=False)\n"
   ]
  },
  {
   "cell_type": "code",
   "execution_count": 6,
   "metadata": {},
   "outputs": [
    {
     "data": {
      "text/plain": [
       "321"
      ]
     },
     "execution_count": 6,
     "metadata": {},
     "output_type": "execute_result"
    }
   ],
   "source": [
    "genome_hits = summary_annot_df[['genome_id','CBB_csome_fdh', 'CBB_csome_h2ase', 'CBB_csome_fdh_h2ase','CBB_csome','gtdb_domain', 'gtdb_phylum', 'gtdb_class', 'gtdb_order', 'gtdb_genus', 'gtdb_species','gc_percentage','genome_size','checkm_completeness']]\n",
    "#genome_hits = summary_annot_df[['genome_id','rubisco_csome','rubisco_csome_fdh', 'rubisco_csome_h2ase', 'rubisco_csome_fdh_h2ase','gtdb_domain', 'gtdb_phylum', 'gtdb_class', 'gtdb_order', 'gtdb_genus', 'gtdb_species']]\n",
    "\n",
    "genome_hits = genome_hits [~(genome_hits[['CBB_csome_fdh', 'CBB_csome_h2ase', 'CBB_csome_fdh_h2ase']] == False).all(axis=1)]\n",
    "genome_hits = genome_hits.sort_values(by=['CBB_csome_fdh_h2ase', 'CBB_csome_fdh'], ascending=[False, False])\n",
    "\n",
    "len(genome_hits)"
   ]
  },
  {
   "cell_type": "code",
   "execution_count": 7,
   "metadata": {},
   "outputs": [
    {
     "name": "stdout",
     "output_type": "stream",
     "text": [
      "Index(['PCC-6307', 'Burkholderiales', 'Ectothiorhodospirales', 'Chromatiales',\n",
      "       'Acidithiobacillales', 'Thiotrichales', 'Rhizobiales',\n",
      "       'Thiohalobacterales', 'Ga0077554', 'Mycobacteriales'],\n",
      "      dtype='object', name='gtdb_order')\n"
     ]
    }
   ],
   "source": [
    "order_counts = genome_hits.groupby('gtdb_order').size().sort_values(ascending=False)\n",
    "my_orders = order_counts.head(10).index\n",
    "for_plotting = genome_hits[genome_hits.gtdb_order.isin(my_orders)]\n",
    "for_plotting.head()\n",
    "\n",
    "print(my_orders)"
   ]
  },
  {
   "cell_type": "code",
   "execution_count": 8,
   "metadata": {},
   "outputs": [
    {
     "data": {
      "text/html": [
       "<div>\n",
       "<style scoped>\n",
       "    .dataframe tbody tr th:only-of-type {\n",
       "        vertical-align: middle;\n",
       "    }\n",
       "\n",
       "    .dataframe tbody tr th {\n",
       "        vertical-align: top;\n",
       "    }\n",
       "\n",
       "    .dataframe thead tr th {\n",
       "        text-align: left;\n",
       "    }\n",
       "\n",
       "    .dataframe thead tr:last-of-type th {\n",
       "        text-align: right;\n",
       "    }\n",
       "</style>\n",
       "<table border=\"1\" class=\"dataframe\">\n",
       "  <thead>\n",
       "    <tr>\n",
       "      <th>CBB_csome</th>\n",
       "      <th colspan=\"3\" halign=\"left\">True</th>\n",
       "    </tr>\n",
       "    <tr>\n",
       "      <th>CBB_csome_fdh</th>\n",
       "      <th>False</th>\n",
       "      <th colspan=\"2\" halign=\"left\">True</th>\n",
       "    </tr>\n",
       "    <tr>\n",
       "      <th>CBB_csome_h2ase</th>\n",
       "      <th>True</th>\n",
       "      <th>False</th>\n",
       "      <th>True</th>\n",
       "    </tr>\n",
       "    <tr>\n",
       "      <th>CBB_csome_fdh_h2ase</th>\n",
       "      <th>False</th>\n",
       "      <th>False</th>\n",
       "      <th>True</th>\n",
       "    </tr>\n",
       "    <tr>\n",
       "      <th>gtdb_order</th>\n",
       "      <th></th>\n",
       "      <th></th>\n",
       "      <th></th>\n",
       "    </tr>\n",
       "  </thead>\n",
       "  <tbody>\n",
       "    <tr>\n",
       "      <th>PCC-6307</th>\n",
       "      <td>188</td>\n",
       "      <td>0</td>\n",
       "      <td>17</td>\n",
       "    </tr>\n",
       "    <tr>\n",
       "      <th>Burkholderiales</th>\n",
       "      <td>12</td>\n",
       "      <td>9</td>\n",
       "      <td>18</td>\n",
       "    </tr>\n",
       "    <tr>\n",
       "      <th>Ectothiorhodospirales</th>\n",
       "      <td>5</td>\n",
       "      <td>2</td>\n",
       "      <td>15</td>\n",
       "    </tr>\n",
       "    <tr>\n",
       "      <th>Chromatiales</th>\n",
       "      <td>2</td>\n",
       "      <td>0</td>\n",
       "      <td>15</td>\n",
       "    </tr>\n",
       "    <tr>\n",
       "      <th>Acidithiobacillales</th>\n",
       "      <td>1</td>\n",
       "      <td>1</td>\n",
       "      <td>7</td>\n",
       "    </tr>\n",
       "    <tr>\n",
       "      <th>Rhizobiales</th>\n",
       "      <td>0</td>\n",
       "      <td>1</td>\n",
       "      <td>3</td>\n",
       "    </tr>\n",
       "    <tr>\n",
       "      <th>Thiotrichales</th>\n",
       "      <td>1</td>\n",
       "      <td>1</td>\n",
       "      <td>2</td>\n",
       "    </tr>\n",
       "    <tr>\n",
       "      <th>Ga0077554</th>\n",
       "      <td>1</td>\n",
       "      <td>1</td>\n",
       "      <td>1</td>\n",
       "    </tr>\n",
       "    <tr>\n",
       "      <th>Thiohalobacterales</th>\n",
       "      <td>3</td>\n",
       "      <td>0</td>\n",
       "      <td>0</td>\n",
       "    </tr>\n",
       "    <tr>\n",
       "      <th>Mycobacteriales</th>\n",
       "      <td>0</td>\n",
       "      <td>1</td>\n",
       "      <td>1</td>\n",
       "    </tr>\n",
       "  </tbody>\n",
       "</table>\n",
       "</div>"
      ],
      "text/plain": [
       "CBB_csome              True            \n",
       "CBB_csome_fdh         False True       \n",
       "CBB_csome_h2ase       True  False True \n",
       "CBB_csome_fdh_h2ase   False False True \n",
       "gtdb_order                             \n",
       "PCC-6307                188     0    17\n",
       "Burkholderiales          12     9    18\n",
       "Ectothiorhodospirales     5     2    15\n",
       "Chromatiales              2     0    15\n",
       "Acidithiobacillales       1     1     7\n",
       "Rhizobiales               0     1     3\n",
       "Thiotrichales             1     1     2\n",
       "Ga0077554                 1     1     1\n",
       "Thiohalobacterales        3     0     0\n",
       "Mycobacteriales           0     1     1"
      ]
     },
     "execution_count": 8,
     "metadata": {},
     "output_type": "execute_result"
    }
   ],
   "source": [
    "cols = ['CBB_csome', 'CBB_csome_fdh', 'CBB_csome_h2ase', 'CBB_csome_fdh_h2ase']\n",
    "ct = pd.crosstab(for_plotting['gtdb_order'], [for_plotting[c] for c in cols],\n",
    "                 rownames=['gtdb_order'],\n",
    "                 colnames=cols)\n",
    "ct_vals = ct.values[:,1:]\n",
    "sums = ct_vals.sum(axis=1)\n",
    "\n",
    "false_col = tuple([False] * len(cols))\n",
    "if false_col in ct.columns:\n",
    "    ct = ct.drop(columns=[false_col])\n",
    "    \n",
    "#reorder by sums, neglecting rubisco_csome alone\n",
    "order = np.argsort(sums)[::-1]\n",
    "ct = ct.iloc[order]\n",
    "ct = ct[(ct != 0).any(axis=1)]\n",
    "ct = ct.loc[ct.sum(axis=1).sort_values(ascending=False).index]\n",
    "\n",
    "ct\n",
    "\n"
   ]
  },
  {
   "cell_type": "code",
   "execution_count": 9,
   "metadata": {},
   "outputs": [
    {
     "name": "stdout",
     "output_type": "stream",
     "text": [
      "['PCC-6307' 'Burkholderiales' 'Ectothiorhodospirales' 'Chromatiales'\n",
      " 'Acidithiobacillales' 'Rhizobiales' 'Thiotrichales' 'Ga0077554'\n",
      " 'Thiohalobacterales' 'Mycobacteriales']\n"
     ]
    },
    {
     "data": {
      "image/png": "[encoded data removed]",
      "text/plain": [
       "<Figure size 200x200 with 1 Axes>"
      ]
     },
     "metadata": {},
     "output_type": "display_data"
    }
   ],
   "source": [
    "plt.figure(figsize=(2, 2))\n",
    "\n",
    "# stacked bar values are along the rows below\n",
    "bar_vals = ct.values\n",
    "\n",
    "# plot the stacked bar chart\n",
    "xs = np.arange(len(ct.index))\n",
    "plt.bar(xs, bar_vals[:, 0], color=lin_colors[1], edgecolor='k', lw=0.5)\n",
    "plt.bar(xs, bar_vals[:, 1], bottom=bar_vals[:, 0], color=lin_colors[2], edgecolor='k', lw=0.5)\n",
    "plt.bar(xs, bar_vals[:, 2], bottom=bar_vals[:, 0]+bar_vals[:, 1], color=lin_colors[3], edgecolor='k', lw=0.5)\n",
    "\n",
    "# relabel legend\n",
    "plt.legend(['+H$_2$ase', '+FDH', 'both'], loc=1, framealpha=0.5)\n",
    "\n",
    "my_xticks = ct.index.values\n",
    "print(my_xticks)\n",
    "# find PCC-6307, replace with its only family Cyanobiaceae\n",
    "my_xticks[my_xticks == 'PCC-6307'] = 'Cyanobiaceae'\n",
    "\n",
    "tick_pos = np.arange(0, len(my_xticks), 1)\n",
    "plt.xticks(tick_pos, my_xticks, rotation=45, ha='right')\n",
    "plt.ylabel('number of genomes')\n",
    "#plt.ylim(0, 50)\n",
    "plt.xlabel('')\n",
    "plt.savefig('../output/plots/top_hits_by_order_small.pdf', bbox_inches='tight')\n",
    "plt.savefig('../output/plots/top_hits_by_order_small.png', bbox_inches='tight')\n",
    "\n",
    "plt.show()\n",
    "\n"
   ]
  },
  {
   "cell_type": "code",
   "execution_count": 181,
   "metadata": {},
   "outputs": [
    {
     "data": {
      "image/png": "[encoded data removed]",
      "text/plain": [
       "<Figure size 300x200 with 1 Axes>"
      ]
     },
     "metadata": {},
     "output_type": "display_data"
    }
   ],
   "source": [
    "plt.figure(figsize=(3, 2))\n",
    "\n",
    "# stacked bar values are along the rows below\n",
    "bar_vals = ct.values\n",
    "\n",
    "# plot the stacked bar chart\n",
    "xs = np.arange(len(ct.index))\n",
    "bottom = np.zeros(len(ct.index))\n",
    "for i in range(bar_vals.shape[1]):\n",
    "    plt.bar(xs, bar_vals[:, i], bottom=bottom, color=lin_colors[i+1],\n",
    "            edgecolor='k', lw=0.5)\n",
    "    bottom += bar_vals[:, i]\n",
    "\n",
    "#plt.bar(xs, bar_vals[:, 0], color=lin_colors[0], edgecolor='k', lw=0.5)\n",
    "#plt.bar(xs, bar_vals[:, 1], color=lin_colors[1], edgecolor='k', lw=0.5)\n",
    "#plt.bar(xs, bar_vals[:, 2], bottom=bar_vals[:, 0], color=lin_colors[2], edgecolor='k', lw=0.5)\n",
    "#plt.bar(xs, bar_vals[:, 3], bottom=bar_vals[:, 0]+bar_vals[:, 1], color=lin_colors[3], edgecolor='k', lw=0.5)\n",
    "\n",
    "# relabel legend\n",
    "plt.legend(['+H$_2$ase', '+FDH', '+both'], loc=1, framealpha=0.5)\n",
    "\n",
    "my_xticks = ct.index.values\n",
    "# find PCC-6307, replace with its only family Cyanobiaceae\n",
    "my_xticks[my_xticks == 'PCC-6307'] = 'Cyanobiaceae'\n",
    "\n",
    "tick_pos = np.arange(0, len(my_xticks), 1)\n",
    "plt.xticks(tick_pos, my_xticks, rotation=45, ha='right')\n",
    "plt.title('genomes with CBB cycle & CCM by order')\n",
    "plt.ylabel('number of genomes')\n",
    "plt.xlabel('')\n",
    "plt.savefig('../output/plots/next_steps_plots/genomes with CBB cycle & CCM by order.pdf', bbox_inches='tight')\n",
    "plt.savefig('../output/plots/next_steps_plots/genomes with CBB cycle & CCM by order.png', bbox_inches='tight')\n",
    "\n",
    "plt.show()\n"
   ]
  },
  {
   "cell_type": "code",
   "execution_count": 182,
   "metadata": {},
   "outputs": [
    {
     "data": {
      "text/plain": [
       "array([[188,   0,  17],\n",
       "       [ 12,   9,  18],\n",
       "       [  5,   2,  15],\n",
       "       [  2,   0,  15],\n",
       "       [  1,   1,   7],\n",
       "       [  0,   1,   3],\n",
       "       [  1,   1,   2],\n",
       "       [  1,   1,   1],\n",
       "       [  3,   0,   0],\n",
       "       [  0,   1,   1]])"
      ]
     },
     "execution_count": 182,
     "metadata": {},
     "output_type": "execute_result"
    }
   ],
   "source": [
    "bar_vals"
   ]
  },
  {
   "cell_type": "code",
   "execution_count": 183,
   "metadata": {},
   "outputs": [
    {
     "data": {
      "text/plain": [
       "321"
      ]
     },
     "execution_count": 183,
     "metadata": {},
     "output_type": "execute_result"
    }
   ],
   "source": [
    "genome_hits = genome_hits[['genome_id','CBB_csome_fdh', 'CBB_csome_h2ase', 'CBB_csome_fdh_h2ase','gtdb_domain', 'gtdb_phylum', 'gtdb_class', 'gtdb_order', 'gtdb_genus', 'gtdb_species','gc_percentage','genome_size','checkm_completeness']]\n",
    "genome_hits.to_csv('../output/annotree/next_steps/genome_hits.csv', index=False)\n",
    "len(genome_hits)"
   ]
  },
  {
   "cell_type": "code",
   "execution_count": 184,
   "metadata": {},
   "outputs": [],
   "source": [
    "# cols = ['rubisco_csome', 'fdh', 'h2ase', 'n2ase']\n",
    "# ct = pd.crosstab(for_plotting['gtdb_order'], [for_plotting[c] for c in cols],\n",
    "#                  rownames=['gtdb_order'],\n",
    "#                  colnames=cols)\n",
    "# ct_vals = ct.values[:,1:]\n",
    "# sums = ct_vals.sum(axis=1)\n",
    "\n",
    "# # reorder by sums, neglecting rubisco_csome alone\n",
    "# order = np.argsort(sums)[::-1]\n",
    "# ct = ct.iloc[order]\n",
    "# ct"
   ]
  },
  {
   "cell_type": "code",
   "execution_count": 185,
   "metadata": {},
   "outputs": [],
   "source": [
    "# # make a heatmap from the above contingency table\n",
    "# plt.figure(figsize=(2, 2))\n",
    "\n",
    "# # Normalize counts per-column\n",
    "# norm_ct = ct.div(ct.sum(axis=1), axis=0)\n",
    "# plt.imshow(norm_ct.values, cmap='viridis')\n",
    "# cb = plt.colorbar(label='fraction of column')\n",
    "\n",
    "# my_yticks = norm_ct.index.values\n",
    "# # find PCC-6307, replace with its only family Cyanobiaceae\n",
    "# my_yticks[my_xticks == 'PCC-6307'] = 'Cyanobiaceae'\n",
    "# plt.yticks(np.arange(len(norm_ct.index)), my_yticks, rotation=0)\n",
    "\n",
    "# # use unicode check to represent TRUE and unicode X to represent false \n",
    "# subs = lambda x: \"\\u2713\" if x else \"\\u2717\"\n",
    "# my_xticks = ['\\n'.join(map(subs, c)) for c in norm_ct.columns.values]\n",
    "\n",
    "# plt.xticks(np.arange(len(norm_ct.columns)), my_xticks, ha='center')\n",
    "\n",
    "# contingency_table_label = '\\n'.join('CCM,FDH,H-ase,N-ase'.split(','))\n",
    "# plt.figtext(0.12, 0.07, contingency_table_label, va='top', ha='right', size=8)\n",
    "\n",
    "# plt.ylabel('order')\n",
    "# #plt.xlabel('')\n",
    "# plt.savefig('../output/plots/top_hits_by_order_heatmap.pdf', bbox_inches='tight')\n",
    "# plt.show()"
   ]
  },
  {
   "cell_type": "code",
   "execution_count": 186,
   "metadata": {},
   "outputs": [],
   "source": [
    "# norm_ct.columns"
   ]
  }
 ],
 "metadata": {
  "kernelspec": {
   "display_name": "base",
   "language": "python",
   "name": "python3"
  },
  "language_info": {
   "codemirror_mode": {
    "name": "ipython",
    "version": 3
   },
   "file_extension": ".py",
   "mimetype": "text/x-python",
   "name": "python",
   "nbconvert_exporter": "python",
   "pygments_lexer": "ipython3",
   "version": "3.12.9"
  }
 },
 "nbformat": 4,
 "nbformat_minor": 2
}
