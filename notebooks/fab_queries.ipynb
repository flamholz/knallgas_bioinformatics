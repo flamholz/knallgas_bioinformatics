{
 "cells": [
  {
   "cell_type": "code",
   "execution_count": 1,
   "metadata": {},
   "outputs": [],
   "source": [
    "# Import the fabapi module, as well as some other stuff for working with data. \n",
    "from fabapi import *\n",
    "import pandas as pd\n",
    "import numpy as np\n",
    "from tqdm import tqdm\n",
    "\n",
    "from os import path"
   ]
  },
  {
   "cell_type": "code",
   "execution_count": 2,
   "metadata": {},
   "outputs": [],
   "source": [
    "def get_save_q(name, outfname, qtype, field, val):\n",
    "    q = Query(qtype)\n",
    "    q.equal_to(field, val)\n",
    "\n",
    "    count = q.count()\n",
    "    print(f'{name} ({val}): {count} results')\n",
    "\n",
    "    if count == 0:\n",
    "        return \n",
    "    \n",
    "    page_df = q.next()\n",
    "    dfs = [page_df]\n",
    "    while page_df is not None:\n",
    "        page_df = q.next()\n",
    "        dfs.append(page_df)\n",
    "\n",
    "    print(f'Concatenating {len(dfs)} results and writing output')\n",
    "    dfs = [d for d in dfs if d is not None]\n",
    "    results = pd.concat(dfs)\n",
    "    results.to_csv(outfname, index=False)\n",
    "\n",
    "def get_save_all(outdir, qdicts, qtype='annotations_pfam', field='ko'):\n",
    "    for d in tqdm(qdicts):\n",
    "        name = d['name']\n",
    "        outfname = path.join(outdir, f'{name}.csv')\n",
    "        if path.exists(outfname):\n",
    "            print(f'output for {name} already exists, skipping')\n",
    "            continue\n",
    "        get_save_q(name, outfname, qtype, field, d['query'])\n"
   ]
  },
  {
   "cell_type": "code",
   "execution_count": 3,
   "metadata": {},
   "outputs": [],
   "source": [
    "kos2query = [\n",
    "    dict(name='rubisco_LSU', query='K01601'),\n",
    "    dict(name='rubisco_SSU', query='K01602'),\n",
    "    dict(name='sbpase_bifuncI', query='K01086'),\n",
    "    dict(name='sbpase_bifuncII', query='K11532'),\n",
    "    dict(name='sbpaseI', query='K01100'),\n",
    "    dict(name='sbpaseII', query='K22315'),\n",
    "    dict(name='fdh', query='K00122'),\n",
    "    dict(name='fdh_large', query='K00123'),\n",
    "    dict(name='fd_h2ase', query='K00532'),\n",
    "    dict(name='fd_h2ase_large', query='K00533'),\n",
    "    dict(name='membrane_h2ase_alpha', query='K18016'),\n",
    "    dict(name='membrane_h2ase_beta', query='K18017'),\n",
    "    dict(name='hoxK_h2ase_small', query='K06282'),\n",
    "    dict(name='hoxG_h2ase_large', query='K06281'),\n",
    "    dict(name='hoxZ_h2ase_cyt', query='K03620'),\n",
    "    dict(name='hoxY_h2ase_small', query='K18007'),\n",
    "    dict(name='hoxH_h2ase_large', query='K00436'),\n",
    "    dict(name='hoxU_nife_h2ase_small', query='K18006'),\n",
    "    dict(name='hoxF_nife_h2ase_large', query='K18005'),\n",
    "    dict(name='meoh_dehydrogenase', query='K00093'),\n",
    "    dict(name='n2ase_delta', query='K00531'),\n",
    "    dict(name='n2ase_femo_alpha', query='K02586'),\n",
    "    dict(name='n2ase_femo_beta', query='K02591'),\n",
    "]\n",
    "\n",
    "outdir = '../output/findabug/kegg_annotations/'\n",
    "queries_df = pd.DataFrame(kos2query)\n",
    "queries_df.to_csv(path.join(outdir, 'queries.csv'), index=False)"
   ]
  },
  {
   "cell_type": "code",
   "execution_count": 4,
   "metadata": {},
   "outputs": [
    {
     "name": "stderr",
     "output_type": "stream",
     "text": [
      "  0%|          | 0/23 [00:00<?, ?it/s]"
     ]
    },
    {
     "name": "stderr",
     "output_type": "stream",
     "text": [
      "100%|██████████| 23/23 [00:00<00:00, 241.96it/s]"
     ]
    },
    {
     "name": "stdout",
     "output_type": "stream",
     "text": [
      "output for rubisco_LSU already exists, skipping\n",
      "output for rubisco_SSU already exists, skipping\n",
      "output for sbpase_bifuncI already exists, skipping\n",
      "output for sbpase_bifuncII already exists, skipping\n",
      "output for sbpaseI already exists, skipping\n",
      "sbpaseII (K22315): 0 results\n",
      "output for fdh already exists, skipping\n",
      "output for fdh_large already exists, skipping\n",
      "output for fd_h2ase already exists, skipping\n",
      "output for fd_h2ase_large already exists, skipping\n",
      "output for membrane_h2ase_alpha already exists, skipping\n",
      "output for membrane_h2ase_beta already exists, skipping\n",
      "output for hoxK_h2ase_small already exists, skipping\n",
      "output for hoxG_h2ase_large already exists, skipping\n",
      "output for hoxZ_h2ase_cyt already exists, skipping\n",
      "output for hoxY_h2ase_small already exists, skipping\n",
      "output for hoxH_h2ase_large already exists, skipping\n",
      "output for hoxU_nife_h2ase_small already exists, skipping\n",
      "output for hoxF_nife_h2ase_large already exists, skipping\n",
      "meoh_dehydrogenase (K00093): 0 results\n",
      "output for n2ase_delta already exists, skipping\n",
      "output for n2ase_femo_alpha already exists, skipping\n",
      "output for n2ase_femo_beta already exists, skipping\n"
     ]
    },
    {
     "name": "stderr",
     "output_type": "stream",
     "text": [
      "\n"
     ]
    }
   ],
   "source": [
    "get_save_all(outdir, kos2query, qtype='annotations_kegg', field='ko')"
   ]
  },
  {
   "cell_type": "code",
   "execution_count": 5,
   "metadata": {},
   "outputs": [],
   "source": [
    "pfams2query = [\n",
    "    dict(name='BMC_domain', query='PF00936'),\n",
    "    dict(name='Csos2', query='PF12288'),\n",
    "]\n",
    "\n",
    "outdir = '../output/findabug/pfam_annotations/'\n",
    "queries_df = pd.DataFrame(pfams2query)\n",
    "queries_df.to_csv(path.join(outdir, 'queries.csv'), index=False)"
   ]
  },
  {
   "cell_type": "code",
   "execution_count": 6,
   "metadata": {},
   "outputs": [
    {
     "name": "stderr",
     "output_type": "stream",
     "text": [
      "100%|██████████| 2/2 [00:00<00:00, 903.36it/s]"
     ]
    },
    {
     "name": "stdout",
     "output_type": "stream",
     "text": [
      "output for BMC_domain already exists, skipping\n",
      "output for Csos2 already exists, skipping\n"
     ]
    },
    {
     "name": "stderr",
     "output_type": "stream",
     "text": [
      "\n"
     ]
    }
   ],
   "source": [
    "get_save_all(outdir, pfams2query, qtype='annotations_pfam', field='pfam')"
   ]
  }
 ],
 "metadata": {
  "kernelspec": {
   "display_name": "base",
   "language": "python",
   "name": "python3"
  },
  "language_info": {
   "codemirror_mode": {
    "name": "ipython",
    "version": 3
   },
   "file_extension": ".py",
   "mimetype": "text/x-python",
   "name": "python",
   "nbconvert_exporter": "python",
   "pygments_lexer": "ipython3",
   "version": "3.8.5"
  }
 },
 "nbformat": 4,
 "nbformat_minor": 2
}
