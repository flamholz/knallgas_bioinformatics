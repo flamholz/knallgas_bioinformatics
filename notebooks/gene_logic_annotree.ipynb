{
 "cells": [
  {
   "cell_type": "code",
   "execution_count": 44,
   "metadata": {},
   "outputs": [],
   "source": [
    "\n",
    "import pandas as pd\n",
    "\n",
    "from os import path"
   ]
  },
  {
   "cell_type": "markdown",
   "metadata": {},
   "source": [
    "# Performs logic with results of FAB queries\n",
    "\n",
    "Current logic -- organisms with rubisco and any recognizable sbpase have the CBB cycle (operationally speaking). \n",
    "\n",
    "Organisms with the csos2 and carboxysome shell genes have a CCM. This is only the alpha CCM for now. TODO: add beta logic. Would be curious to see beta outside the cyanos, for example. \n",
    "\n",
    "For FDH, H2ase and N2ase we are just looking for the focal enzymes, not the cofactor synthesis. Could add this. \n",
    "\n",
    "TODO: consider adding sugar transporters to the list to mark facultative heterotrophy. "
   ]
  },
  {
   "cell_type": "code",
   "execution_count": 45,
   "metadata": {},
   "outputs": [
    {
     "data": {
      "text/html": [
       "<div>\n",
       "<style scoped>\n",
       "    .dataframe tbody tr th:only-of-type {\n",
       "        vertical-align: middle;\n",
       "    }\n",
       "\n",
       "    .dataframe tbody tr th {\n",
       "        vertical-align: top;\n",
       "    }\n",
       "\n",
       "    .dataframe thead th {\n",
       "        text-align: right;\n",
       "    }\n",
       "</style>\n",
       "<table border=\"1\" class=\"dataframe\">\n",
       "  <thead>\n",
       "    <tr style=\"text-align: right;\">\n",
       "      <th></th>\n",
       "      <th>query</th>\n",
       "    </tr>\n",
       "    <tr>\n",
       "      <th>name</th>\n",
       "      <th></th>\n",
       "    </tr>\n",
       "  </thead>\n",
       "  <tbody>\n",
       "    <tr>\n",
       "      <th>rubisco_LSU</th>\n",
       "      <td>K01601</td>\n",
       "    </tr>\n",
       "    <tr>\n",
       "      <th>rubisco_SSU</th>\n",
       "      <td>K01602</td>\n",
       "    </tr>\n",
       "    <tr>\n",
       "      <th>sbpase_bifuncI</th>\n",
       "      <td>K01086</td>\n",
       "    </tr>\n",
       "    <tr>\n",
       "      <th>sbpase_bifuncII</th>\n",
       "      <td>K11532</td>\n",
       "    </tr>\n",
       "    <tr>\n",
       "      <th>sbpaseI</th>\n",
       "      <td>K01100</td>\n",
       "    </tr>\n",
       "    <tr>\n",
       "      <th>sbpaseII</th>\n",
       "      <td>K22315</td>\n",
       "    </tr>\n",
       "    <tr>\n",
       "      <th>fdh</th>\n",
       "      <td>K00122</td>\n",
       "    </tr>\n",
       "    <tr>\n",
       "      <th>fdh_large</th>\n",
       "      <td>K00123</td>\n",
       "    </tr>\n",
       "    <tr>\n",
       "      <th>fd_h2ase</th>\n",
       "      <td>K00532</td>\n",
       "    </tr>\n",
       "    <tr>\n",
       "      <th>fd_h2ase_large</th>\n",
       "      <td>K00533</td>\n",
       "    </tr>\n",
       "    <tr>\n",
       "      <th>membrane_h2ase_alpha</th>\n",
       "      <td>K18016</td>\n",
       "    </tr>\n",
       "    <tr>\n",
       "      <th>membrane_h2ase_beta</th>\n",
       "      <td>K18017</td>\n",
       "    </tr>\n",
       "    <tr>\n",
       "      <th>hoxK_h2ase_small</th>\n",
       "      <td>K06282</td>\n",
       "    </tr>\n",
       "    <tr>\n",
       "      <th>hoxG_h2ase_large</th>\n",
       "      <td>K06281</td>\n",
       "    </tr>\n",
       "    <tr>\n",
       "      <th>hoxZ_h2ase_cyt</th>\n",
       "      <td>K03620</td>\n",
       "    </tr>\n",
       "    <tr>\n",
       "      <th>hoxY_h2ase_small</th>\n",
       "      <td>K18007</td>\n",
       "    </tr>\n",
       "    <tr>\n",
       "      <th>hoxH_h2ase_large</th>\n",
       "      <td>K00436</td>\n",
       "    </tr>\n",
       "    <tr>\n",
       "      <th>hoxU_nife_h2ase_small</th>\n",
       "      <td>K18006</td>\n",
       "    </tr>\n",
       "    <tr>\n",
       "      <th>hoxF_nife_h2ase_large</th>\n",
       "      <td>K18005</td>\n",
       "    </tr>\n",
       "    <tr>\n",
       "      <th>meoh_dehydrogenase</th>\n",
       "      <td>K00093</td>\n",
       "    </tr>\n",
       "    <tr>\n",
       "      <th>n2ase_delta</th>\n",
       "      <td>K00531</td>\n",
       "    </tr>\n",
       "    <tr>\n",
       "      <th>n2ase_femo_alpha</th>\n",
       "      <td>K02586</td>\n",
       "    </tr>\n",
       "    <tr>\n",
       "      <th>n2ase_femo_beta</th>\n",
       "      <td>K02591</td>\n",
       "    </tr>\n",
       "  </tbody>\n",
       "</table>\n",
       "</div>"
      ],
      "text/plain": [
       "                        query\n",
       "name                         \n",
       "rubisco_LSU            K01601\n",
       "rubisco_SSU            K01602\n",
       "sbpase_bifuncI         K01086\n",
       "sbpase_bifuncII        K11532\n",
       "sbpaseI                K01100\n",
       "sbpaseII               K22315\n",
       "fdh                    K00122\n",
       "fdh_large              K00123\n",
       "fd_h2ase               K00532\n",
       "fd_h2ase_large         K00533\n",
       "membrane_h2ase_alpha   K18016\n",
       "membrane_h2ase_beta    K18017\n",
       "hoxK_h2ase_small       K06282\n",
       "hoxG_h2ase_large       K06281\n",
       "hoxZ_h2ase_cyt         K03620\n",
       "hoxY_h2ase_small       K18007\n",
       "hoxH_h2ase_large       K00436\n",
       "hoxU_nife_h2ase_small  K18006\n",
       "hoxF_nife_h2ase_large  K18005\n",
       "meoh_dehydrogenase     K00093\n",
       "n2ase_delta            K00531\n",
       "n2ase_femo_alpha       K02586\n",
       "n2ase_femo_beta        K02591"
      ]
     },
     "execution_count": 45,
     "metadata": {},
     "output_type": "execute_result"
    }
   ],
   "source": [
    "basedir = '../output/annotree/'\n",
    "\n",
    "\n",
    "queries_df = pd.read_csv(path.join(basedir, 'queries.csv'), index_col=0)\n",
    "queries_df"
   ]
  },
  {
   "cell_type": "code",
   "execution_count": 46,
   "metadata": {},
   "outputs": [],
   "source": [
    "name = 'rubisco_LSU'\n",
    "ko_SSU = queries_df.loc[name].query\n",
    "fname = path.join(basedir, f'{name}.csv')\n",
    "rub_large = pd.read_csv(fname, index_col=0)\n",
    "\n",
    "rub_large['genome_id'] = rub_large['gtdbId'].str[3:]\n",
    "\n",
    "\n",
    "name = 'rubisco_SSU'\n",
    "ko_LSU = queries_df.loc[name].query\n",
    "fname = path.join(basedir, f'{name}.csv')\n",
    "rub_small = pd.read_csv(fname, index_col=0)\n",
    "rub_small['genome_id'] = rub_small['gtdbId'].str[3:]"
   ]
  },
  {
   "cell_type": "code",
   "execution_count": 47,
   "metadata": {},
   "outputs": [
    {
     "name": "stdout",
     "output_type": "stream",
     "text": [
      "Found 2006 genomes with rubisco LSU and SSU\n"
     ]
    }
   ],
   "source": [
    "rub_genes = pd.concat([rub_large, rub_small])\n",
    "\n",
    "# retain only those groups with an LSU and SSU\n",
    "rub_genes = rub_genes.groupby('genome_id').filter(\n",
    "    lambda x: ko_LSU in x['keggId'].values and ko_SSU in x['keggId'].values).reset_index()\n",
    "\n",
    "# has a large and small subunit\n",
    "has_rub = rub_genes['genome_id'].unique()\n",
    "\n",
    "print(f'Found {len(has_rub)} genomes with rubisco LSU and SSU')"
   ]
  },
  {
   "cell_type": "code",
   "execution_count": 48,
   "metadata": {},
   "outputs": [
    {
     "name": "stdout",
     "output_type": "stream",
     "text": [
      "sbpase_bifuncI\n",
      "sbpase_bifuncII\n",
      "sbpaseI\n",
      "sbpaseII\n",
      "Genomes with sbpase: 8272\n"
     ]
    }
   ],
   "source": [
    "sbpase_names = 'sbpase_bifuncI sbpase_bifuncII sbpaseI sbpaseII'.split()\n",
    "all_sbpase_dfs = []\n",
    "for sbpase in sbpase_names:\n",
    "    print(sbpase)\n",
    "    ko = queries_df.loc[sbpase].query\n",
    "    fname = path.join(basedir, f'{sbpase}.csv')\n",
    "    if not path.exists(fname):\n",
    "        continue\n",
    "    sbpase_df = pd.read_csv(fname, index_col=0)\n",
    "    sbpase_df['genome_id'] = sbpase_df['gtdbId'].str[3:]\n",
    "    all_sbpase_dfs.append(sbpase_df)\n",
    "\n",
    "\n",
    "\n",
    "# list those genomes with any sbpase gene\n",
    "all_sbpase_df = pd.concat(all_sbpase_dfs)\n",
    "has_sbpase = all_sbpase_df['genome_id'].unique()\n",
    "print(f'Genomes with sbpase: {len(has_sbpase)}')"
   ]
  },
  {
   "cell_type": "code",
   "execution_count": 49,
   "metadata": {},
   "outputs": [],
   "source": [
    "fdh_names = 'fdh fdh_large'.split()\n",
    "all_fdh_dfs = []\n",
    "for fdh in fdh_names:\n",
    "    ko = queries_df.loc[fdh].query\n",
    "    fname = path.join(basedir, f'{fdh}.csv')\n",
    "    if not path.exists(fname):\n",
    "        continue\n",
    "    fdh_df = pd.read_csv(fname, index_col=0)\n",
    "    fdh_df['genome_id'] = fdh_df['gtdbId'].str[3:]\n",
    "    all_fdh_dfs.append(fdh_df)\n",
    "\n",
    "# list those genomes with any fdh gene\n",
    "all_fdh_df = pd.concat(all_fdh_dfs)\n",
    "has_fdh = all_fdh_df['genome_id'].unique()"
   ]
  },
  {
   "cell_type": "code",
   "execution_count": 50,
   "metadata": {},
   "outputs": [
    {
     "name": "stdout",
     "output_type": "stream",
     "text": [
      "['fd_h2ase', 'fd_h2ase_large', 'membrane_h2ase_alpha', 'membrane_h2ase_beta', 'hoxK_h2ase_small', 'hoxG_h2ase_large', 'hoxZ_h2ase_cyt', 'hoxY_h2ase_small', 'hoxH_h2ase_large', 'hoxU_nife_h2ase_small', 'hoxF_nife_h2ase_large']\n"
     ]
    }
   ],
   "source": [
    "h2ase_names = [n for n in queries_df.index if 'h2ase' in n]\n",
    "print(h2ase_names)\n",
    "\n",
    "all_h2ase_dfs = []\n",
    "for h2ase in h2ase_names:\n",
    "    ko = queries_df.loc[h2ase].query\n",
    "    fname = path.join(basedir, f'{h2ase}.csv')\n",
    "    if not path.exists(fname):\n",
    "        continue\n",
    "    h2ase_df = pd.read_csv(fname, index_col=0)\n",
    "    h2ase_df['genome_id'] = h2ase_df['gtdbId'].str[3:]\n",
    "    all_h2ase_dfs.append(h2ase_df)\n",
    "\n",
    "# list those genomes with any h2ase gene\n",
    "# TODO: some combinatorial logic here for subunits\n",
    "all_h2ase_df = pd.concat(all_h2ase_dfs)\n",
    "has_h2ase = all_h2ase_df['genome_id'].unique()"
   ]
  },
  {
   "cell_type": "code",
   "execution_count": 51,
   "metadata": {},
   "outputs": [
    {
     "name": "stdout",
     "output_type": "stream",
     "text": [
      "Genomes with meoh_dehydrogenase: 1044\n"
     ]
    }
   ],
   "source": [
    "# got 0 hits on this one \n",
    "name = 'meoh_dehydrogenase'\n",
    "ko = queries_df.loc[name].query\n",
    "fname = path.join(basedir, f'{name}.csv')\n",
    "\n",
    "if path.exists(fname):\n",
    "    meoh_df = pd.read_csv(fname, index_col=0)\n",
    "    meoh_df['genome_id'] = meoh_df['gtdbId'].str[3:]\n",
    "    has_meoh = meoh_df['genome_id'].unique()\n",
    "    print(f'Genomes with {name}: {len(has_meoh)}')\n",
    "else:\n",
    "    print(f'No file found for {name}, skipping.')\n",
    "    has_meoh = []"
   ]
  },
  {
   "cell_type": "code",
   "execution_count": 52,
   "metadata": {},
   "outputs": [],
   "source": [
    "n2ase_names = 'n2ase_delta n2ase_femo_alpha n2ase_femo_beta'.split()\n",
    "all_n2ase_dfs = []\n",
    "for n2ase in n2ase_names:\n",
    "    ko = queries_df.loc[n2ase].query\n",
    "    fname = path.join(basedir, f'{n2ase}.csv')\n",
    "    if not path.exists(fname):\n",
    "        continue\n",
    "    n2ase_df = pd.read_csv(fname, index_col=0)\n",
    "    n2ase_df['genome_id'] = n2ase_df['gtdbId'].str[3:]\n",
    "    all_n2ase_dfs.append(n2ase_df)\n",
    "\n",
    "# list those genomes with any n2ase gene\n",
    "all_n2ase_df = pd.concat(all_n2ase_dfs)\n",
    "has_n2ase = all_n2ase_df['genome_id'].unique()"
   ]
  },
  {
   "cell_type": "code",
   "execution_count": 53,
   "metadata": {},
   "outputs": [
    {
     "data": {
      "text/html": [
       "<div>\n",
       "<style scoped>\n",
       "    .dataframe tbody tr th:only-of-type {\n",
       "        vertical-align: middle;\n",
       "    }\n",
       "\n",
       "    .dataframe tbody tr th {\n",
       "        vertical-align: top;\n",
       "    }\n",
       "\n",
       "    .dataframe thead th {\n",
       "        text-align: right;\n",
       "    }\n",
       "</style>\n",
       "<table border=\"1\" class=\"dataframe\">\n",
       "  <thead>\n",
       "    <tr style=\"text-align: right;\">\n",
       "      <th></th>\n",
       "      <th>query</th>\n",
       "    </tr>\n",
       "    <tr>\n",
       "      <th>name</th>\n",
       "      <th></th>\n",
       "    </tr>\n",
       "  </thead>\n",
       "  <tbody>\n",
       "    <tr>\n",
       "      <th>BMC_domain</th>\n",
       "      <td>PF00936</td>\n",
       "    </tr>\n",
       "    <tr>\n",
       "      <th>Csos2</th>\n",
       "      <td>PF12288</td>\n",
       "    </tr>\n",
       "  </tbody>\n",
       "</table>\n",
       "</div>"
      ],
      "text/plain": [
       "              query\n",
       "name               \n",
       "BMC_domain  PF00936\n",
       "Csos2       PF12288"
      ]
     },
     "execution_count": 53,
     "metadata": {},
     "output_type": "execute_result"
    }
   ],
   "source": [
    "basedir = '../output/annotree/'\n",
    "queries_df = pd.read_csv(path.join(basedir, 'pfam_queries.csv'), index_col=0)\n",
    "queries_df"
   ]
  },
  {
   "cell_type": "code",
   "execution_count": 54,
   "metadata": {},
   "outputs": [],
   "source": [
    "name = 'BMC_domain'\n",
    "pfam = queries_df.loc[name].query\n",
    "fname = path.join(basedir, f'{name}.csv')\n",
    "bmc_df = pd.read_csv(fname, index_col=0)\n",
    "bmc_df['genome_id'] = bmc_df['gtdbId'].str[3:]\n",
    "\n",
    "has_bmc = bmc_df['genome_id'].unique()\n",
    "\n",
    "name = 'Csos2'\n",
    "pfam = queries_df.loc[name].query\n",
    "fname = path.join(basedir, f'{name}.csv')\n",
    "csos2_df = pd.read_csv(fname, index_col=0)\n",
    "csos2_df['genome_id'] = csos2_df['gtdbId'].str[3:]\n",
    "\n",
    "has_csos2 = csos2_df['genome_id'].unique()"
   ]
  },
  {
   "cell_type": "code",
   "execution_count": 55,
   "metadata": {},
   "outputs": [],
   "source": [
    "lists_of_genome_ids = [has_rub, has_sbpase, has_fdh, has_h2ase, has_n2ase, has_bmc, has_csos2]\n",
    "all_genome_ids = set.union(*map(set, lists_of_genome_ids))\n",
    "all_genome_ids = list(sorted(all_genome_ids))\n",
    "\n",
    "\n",
    "\n",
    "# make a dataframe marking which ones were computed to have rubisco, sbpase, and fdh\n",
    "df = pd.DataFrame(dict(genome_id=all_genome_ids))\n",
    "df['rubisco'] = df.genome_id.isin(has_rub)\n",
    "df['sbpase'] = df.genome_id.isin(has_sbpase)\n",
    "df['fdh'] = df.genome_id.isin(has_fdh)\n",
    "df['h2ase'] = df.genome_id.isin(has_h2ase)\n",
    "df['meoh'] = df.genome_id.isin(has_meoh)\n",
    "df['n2ase'] = df.genome_id.isin(has_n2ase)\n",
    "df['bmc'] = df.genome_id.isin(has_bmc)\n",
    "df['csos2'] = df.genome_id.isin(has_csos2)\n",
    "\n",
    "df['knallgas'] = df['rubisco'] & df['h2ase']\n",
    "\n",
    "# TODO: add beta csome\n",
    "df['alpha_csome'] = df['csos2'] & df['bmc']\n",
    "df['csome'] = df['alpha_csome']\n",
    "\n",
    "df['cbb'] = df['rubisco'] & df['sbpase']\n",
    "\n",
    "df['rubisco_csome'] = df['rubisco'] & df['csome']\n",
    "df['rubisco_csome_n2ase'] = df['rubisco_csome'] & df['n2ase']\n",
    "df['rubisco_csome_fdh'] = df['rubisco_csome'] & df['fdh']\n",
    "df['rubisco_csome_h2ase'] = df['rubisco_csome'] & df['h2ase']\n",
    "df['rubisco_csome_fdh_h2ase'] = df['rubisco_csome'] & df['fdh'] & df['h2ase']\n",
    "\n",
    "df.to_csv('../output/annotree/chemoauto_summary.csv', index=False)"
   ]
  },
  {
   "cell_type": "code",
   "execution_count": 56,
   "metadata": {},
   "outputs": [
    {
     "data": {
      "text/html": [
       "<div>\n",
       "<style scoped>\n",
       "    .dataframe tbody tr th:only-of-type {\n",
       "        vertical-align: middle;\n",
       "    }\n",
       "\n",
       "    .dataframe tbody tr th {\n",
       "        vertical-align: top;\n",
       "    }\n",
       "\n",
       "    .dataframe thead tr th {\n",
       "        text-align: left;\n",
       "    }\n",
       "\n",
       "    .dataframe thead tr:last-of-type th {\n",
       "        text-align: right;\n",
       "    }\n",
       "</style>\n",
       "<table border=\"1\" class=\"dataframe\">\n",
       "  <thead>\n",
       "    <tr>\n",
       "      <th>fdh</th>\n",
       "      <th colspan=\"2\" halign=\"left\">False</th>\n",
       "      <th colspan=\"2\" halign=\"left\">True</th>\n",
       "    </tr>\n",
       "    <tr>\n",
       "      <th>h2ase</th>\n",
       "      <th>False</th>\n",
       "      <th>True</th>\n",
       "      <th>False</th>\n",
       "      <th>True</th>\n",
       "    </tr>\n",
       "    <tr>\n",
       "      <th>rubisco_csome</th>\n",
       "      <th></th>\n",
       "      <th></th>\n",
       "      <th></th>\n",
       "      <th></th>\n",
       "    </tr>\n",
       "  </thead>\n",
       "  <tbody>\n",
       "    <tr>\n",
       "      <th>False</th>\n",
       "      <td>3645</td>\n",
       "      <td>4313</td>\n",
       "      <td>9953</td>\n",
       "      <td>6762</td>\n",
       "    </tr>\n",
       "    <tr>\n",
       "      <th>True</th>\n",
       "      <td>85</td>\n",
       "      <td>244</td>\n",
       "      <td>24</td>\n",
       "      <td>96</td>\n",
       "    </tr>\n",
       "  </tbody>\n",
       "</table>\n",
       "</div>"
      ],
      "text/plain": [
       "fdh           False       True       \n",
       "h2ase         False True  False True \n",
       "rubisco_csome                        \n",
       "False          3645  4313  9953  6762\n",
       "True             85   244    24    96"
      ]
     },
     "execution_count": 56,
     "metadata": {},
     "output_type": "execute_result"
    }
   ],
   "source": [
    "rownames = ['rubisco_csome']\n",
    "colnames = 'fdh,h2ase'.split(',')\n",
    "\n",
    "contingency_table = pd.crosstab(df[rownames[0]], [df[c] for c in colnames],\n",
    "                                rownames=rownames, colnames=colnames)\n",
    "contingency_table.to_csv('../output/annotree/CCM_contingency_table.csv')\n",
    "contingency_table\n"
   ]
  },
  {
   "cell_type": "code",
   "execution_count": 57,
   "metadata": {},
   "outputs": [
    {
     "name": "stdout",
     "output_type": "stream",
     "text": [
      "(np.int64(85), np.int64(9953), np.int64(4313), np.int64(24), np.int64(244), np.int64(6762), np.int64(96))\n"
     ]
    },
    {
     "data": {
      "image/png": "[encoded data removed]",
      "text/plain": [
       "<Figure size 640x480 with 1 Axes>"
      ]
     },
     "metadata": {},
     "output_type": "display_data"
    }
   ],
   "source": [
    "from matplotlib_venn import venn3, venn2\n",
    "import matplotlib.pyplot as plt\n",
    "import viz\n",
    "\n",
    "colors = viz.color_palette()\n",
    "\n",
    "# index is rubisco_csome, columns are fdh, h2ase\n",
    "# hence subset order is rubisco_csome, fdh, h2ase\n",
    "# Subsets are then Abc, aBc, abC, ABc, AbC, aBC, ABC\n",
    "ct = contingency_table\n",
    "subsets = (ct.loc[True][False, False], ct.loc[False][True, False], ct.loc[False][False, True],\n",
    "              ct.loc[True][True, False], ct.loc[True][False, True], ct.loc[False][True, True],\n",
    "              ct.loc[True][True, True])\n",
    "print(subsets)\n",
    "\n",
    "plt.figure()\n",
    "\n",
    "my_colors = [colors['green'], colors['purple'], colors['blue']]\n",
    "venn3(subsets=subsets, set_labels=('CCM', 'FDH', 'H$_2$ase'), set_colors=my_colors)\n",
    "plt.savefig('../output/plots/annotree_venn.pdf')\n",
    "plt.show()\n"
   ]
  }
 ],
 "metadata": {
  "kernelspec": {
   "display_name": "base",
   "language": "python",
   "name": "python3"
  },
  "language_info": {
   "codemirror_mode": {
    "name": "ipython",
    "version": 3
   },
   "file_extension": ".py",
   "mimetype": "text/x-python",
   "name": "python",
   "nbconvert_exporter": "python",
   "pygments_lexer": "ipython3",
   "version": "3.12.9"
  }
 },
 "nbformat": 4,
 "nbformat_minor": 2
}
